{
 "cells": [
  {
   "cell_type": "code",
   "execution_count": 1,
   "metadata": {},
   "outputs": [],
   "source": [
    "from bing_image_downloader import downloader"
   ]
  },
  {
   "cell_type": "code",
   "execution_count": 5,
   "metadata": {},
   "outputs": [
    {
     "name": "stdout",
     "output_type": "stream",
     "text": [
      "[%] Downloading Images to /Users/inespissarra/Downloads/AI/project/dataset/garrafa de agua pingo doce\n",
      "\n",
      "\n",
      "[!!]Indexing page: 1\n",
      "\n",
      "[%] Indexed 4 Images on Page 1.\n",
      "\n",
      "===============================================\n",
      "\n",
      "[%] Downloading Image #1 from https://res.cloudinary.com/fonte-online/image/upload/c_fill,h_300,q_auto,w_300/v1/PDO_PROD/699568_1\n",
      "[%] File Downloaded !\n",
      "\n",
      "[%] Downloading Image #2 from https://www.distribuicaohoje.com/wp-content/uploads/sites/2/2018/04/Pingo-Doce-sistema-de-reenchimento-de-garrafas-de-água-Distribuição-Hoje--768x738.jpg\n",
      "[!] Issue getting: https://www.distribuicaohoje.com/wp-content/uploads/sites/2/2018/04/Pingo-Doce-sistema-de-reenchimento-de-garrafas-de-água-Distribuição-Hoje--768x738.jpg\n",
      "[!] Error:: 'ascii' codec can't encode character '\\xe1' in position 90: ordinal not in range(128)\n",
      "[%] Downloading Image #2 from https://echoboomer.pt/wp-content/uploads/2021/07/eco-agua-filtrada-garrafao.jpg\n",
      "[%] File Downloaded !\n",
      "\n",
      "[%] Downloading Image #3 from https://cdn1.newsplex.pt/fotos/2018/4/25/636488.jpg?type=Artigo\n",
      "[%] File Downloaded !\n",
      "\n",
      "\n",
      "\n",
      "[!!]Indexing page: 2\n",
      "\n",
      "[%] No more images are available\n",
      "\n",
      "\n",
      "[%] Done. Downloaded 3 images.\n"
     ]
    }
   ],
   "source": [
    "downloader.download(\"garrafa de agua pingo doce\", limit=4,  output_dir='dataset', adult_filter_off=True, force_replace=False, timeout=60)"
   ]
  }
 ],
 "metadata": {
  "kernelspec": {
   "display_name": "Python 3",
   "language": "python",
   "name": "python3"
  },
  "language_info": {
   "codemirror_mode": {
    "name": "ipython",
    "version": 3
   },
   "file_extension": ".py",
   "mimetype": "text/x-python",
   "name": "python",
   "nbconvert_exporter": "python",
   "pygments_lexer": "ipython3",
   "version": "3.8.6"
  }
 },
 "nbformat": 4,
 "nbformat_minor": 2
}
