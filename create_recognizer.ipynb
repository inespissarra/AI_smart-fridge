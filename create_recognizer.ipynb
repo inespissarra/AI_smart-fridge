{
 "cells": [
  {
   "cell_type": "code",
   "execution_count": 1,
   "metadata": {},
   "outputs": [
    {
     "name": "stderr",
     "output_type": "stream",
     "text": [
      "2024-03-01 11:15:47.646241: I tensorflow/core/platform/cpu_feature_guard.cc:182] This TensorFlow binary is optimized to use available CPU instructions in performance-critical operations.\n",
      "To enable the following instructions: AVX2 FMA, in other operations, rebuild TensorFlow with the appropriate compiler flags.\n"
     ]
    }
   ],
   "source": [
    "# recognizer of milk\n",
    "import os\n",
    "import numpy as np\n",
    "import tensorflow as tf\n",
    "from tensorflow.keras.preprocessing.image import ImageDataGenerator\n",
    "from tensorflow.keras.models import Sequential\n",
    "from tensorflow.keras.layers import Conv2D, MaxPooling2D, Dense, Dropout, Flatten"
   ]
  },
  {
   "cell_type": "code",
   "execution_count": 2,
   "metadata": {},
   "outputs": [],
   "source": [
    "data_dir = './dataset'\n",
    "img_height, image_width = 128, 128\n",
    "batch_size = 32\n",
    "num_classes = 2\n",
    "epochs = 25"
   ]
  },
  {
   "cell_type": "code",
   "execution_count": 3,
   "metadata": {},
   "outputs": [],
   "source": [
    "train_datagen = ImageDataGenerator(\n",
    "    rescale=1./255,\n",
    "    validation_split=0.2, # 20% of the data will be used for validation\n",
    "    shear_range=0.2,\n",
    "    zoom_range=0.2,\n",
    "    horizontal_flip=True\n",
    ")"
   ]
  },
  {
   "cell_type": "code",
   "execution_count": 4,
   "metadata": {},
   "outputs": [
    {
     "name": "stdout",
     "output_type": "stream",
     "text": [
      "Found 64 images belonging to 2 classes.\n",
      "Found 16 images belonging to 2 classes.\n"
     ]
    }
   ],
   "source": [
    "train_generator = train_datagen.flow_from_directory(\n",
    "    data_dir,\n",
    "    target_size=(img_height, image_width),\n",
    "    batch_size=batch_size,\n",
    "    class_mode='categorical',\n",
    "    subset='training'\n",
    ")\n",
    "\n",
    "validation_generator = train_datagen.flow_from_directory(\n",
    "    data_dir,\n",
    "    target_size=(img_height, image_width),\n",
    "    batch_size=batch_size,\n",
    "    class_mode='categorical',\n",
    "    subset='validation'\n",
    ")"
   ]
  },
  {
   "cell_type": "code",
   "execution_count": 5,
   "metadata": {},
   "outputs": [],
   "source": [
    "model = Sequential([\n",
    "    Conv2D(32, (3, 3), activation='relu', input_shape=(img_height, image_width, 3)),\n",
    "    MaxPooling2D(2, 2),\n",
    "    Conv2D(64, (3, 3), activation='relu'),\n",
    "    MaxPooling2D(2, 2),\n",
    "    Conv2D(128, (3, 3), activation='relu'),\n",
    "    MaxPooling2D(2, 2),\n",
    "    Flatten(),\n",
    "    Dense(512, activation='relu'),\n",
    "    Dropout(0.5),\n",
    "    Dense(2, activation='softmax')\n",
    "])"
   ]
  },
  {
   "cell_type": "code",
   "execution_count": 6,
   "metadata": {},
   "outputs": [],
   "source": [
    "model.compile(\n",
    "    optimizer='adam',\n",
    "    loss='categorical_crossentropy',\n",
    "    metrics=['accuracy']\n",
    ")"
   ]
  },
  {
   "cell_type": "code",
   "execution_count": 7,
   "metadata": {},
   "outputs": [
    {
     "name": "stdout",
     "output_type": "stream",
     "text": [
      "Epoch 1/25\n",
      "2/2 [==============================] - 3s 834ms/step - loss: 1.0737 - accuracy: 0.4688 - val_loss: 6.5540 - val_accuracy: 0.5000\n",
      "Epoch 2/25\n",
      "2/2 [==============================] - 1s 557ms/step - loss: 4.6470 - accuracy: 0.5000 - val_loss: 0.6830 - val_accuracy: 0.5000\n",
      "Epoch 3/25\n",
      "2/2 [==============================] - 1s 510ms/step - loss: 1.1094 - accuracy: 0.4062 - val_loss: 0.8710 - val_accuracy: 0.5000\n",
      "Epoch 4/25\n",
      "2/2 [==============================] - 1s 458ms/step - loss: 0.7616 - accuracy: 0.5000 - val_loss: 0.6216 - val_accuracy: 0.5000\n",
      "Epoch 5/25\n",
      "2/2 [==============================] - 1s 468ms/step - loss: 0.6706 - accuracy: 0.5469 - val_loss: 0.5648 - val_accuracy: 0.9375\n",
      "Epoch 6/25\n",
      "2/2 [==============================] - 1s 463ms/step - loss: 0.6173 - accuracy: 0.6875 - val_loss: 0.5181 - val_accuracy: 0.5000\n",
      "Epoch 7/25\n",
      "2/2 [==============================] - 1s 469ms/step - loss: 0.5863 - accuracy: 0.6250 - val_loss: 0.3605 - val_accuracy: 0.8750\n",
      "Epoch 8/25\n",
      "2/2 [==============================] - 1s 461ms/step - loss: 0.5492 - accuracy: 0.6719 - val_loss: 0.3683 - val_accuracy: 0.8750\n",
      "Epoch 9/25\n",
      "2/2 [==============================] - 1s 466ms/step - loss: 0.5413 - accuracy: 0.7031 - val_loss: 0.3695 - val_accuracy: 0.8750\n",
      "Epoch 10/25\n",
      "2/2 [==============================] - 1s 458ms/step - loss: 0.4483 - accuracy: 0.8125 - val_loss: 0.4703 - val_accuracy: 0.7500\n",
      "Epoch 11/25\n",
      "2/2 [==============================] - 1s 467ms/step - loss: 0.4810 - accuracy: 0.6719 - val_loss: 0.3539 - val_accuracy: 0.8750\n",
      "Epoch 12/25\n",
      "2/2 [==============================] - 1s 474ms/step - loss: 0.4144 - accuracy: 0.8125 - val_loss: 0.2874 - val_accuracy: 0.8750\n",
      "Epoch 13/25\n",
      "2/2 [==============================] - 1s 473ms/step - loss: 0.3520 - accuracy: 0.8750 - val_loss: 0.3140 - val_accuracy: 0.8750\n",
      "Epoch 14/25\n",
      "2/2 [==============================] - 1s 528ms/step - loss: 0.2973 - accuracy: 0.8750 - val_loss: 0.3083 - val_accuracy: 0.8125\n",
      "Epoch 15/25\n",
      "2/2 [==============================] - 1s 489ms/step - loss: 0.2410 - accuracy: 0.9062 - val_loss: 0.2225 - val_accuracy: 0.8750\n",
      "Epoch 16/25\n",
      "2/2 [==============================] - 1s 449ms/step - loss: 0.3669 - accuracy: 0.8906 - val_loss: 0.2605 - val_accuracy: 0.8750\n",
      "Epoch 17/25\n",
      "2/2 [==============================] - 1s 470ms/step - loss: 0.2137 - accuracy: 0.9219 - val_loss: 0.2292 - val_accuracy: 0.8750\n",
      "Epoch 18/25\n",
      "2/2 [==============================] - 1s 469ms/step - loss: 0.2452 - accuracy: 0.8906 - val_loss: 0.2523 - val_accuracy: 0.8750\n",
      "Epoch 19/25\n",
      "2/2 [==============================] - 1s 472ms/step - loss: 0.1711 - accuracy: 0.9219 - val_loss: 0.4665 - val_accuracy: 0.9375\n",
      "Epoch 20/25\n",
      "2/2 [==============================] - 1s 473ms/step - loss: 0.1691 - accuracy: 0.9688 - val_loss: 0.5428 - val_accuracy: 0.8750\n",
      "Epoch 21/25\n",
      "2/2 [==============================] - 1s 468ms/step - loss: 0.1297 - accuracy: 0.9688 - val_loss: 0.3607 - val_accuracy: 0.8750\n",
      "Epoch 22/25\n",
      "2/2 [==============================] - 1s 480ms/step - loss: 0.2111 - accuracy: 0.9219 - val_loss: 0.3851 - val_accuracy: 0.9375\n",
      "Epoch 23/25\n",
      "2/2 [==============================] - 1s 474ms/step - loss: 0.0892 - accuracy: 0.9844 - val_loss: 0.5669 - val_accuracy: 0.8125\n",
      "Epoch 24/25\n",
      "2/2 [==============================] - 1s 459ms/step - loss: 0.1444 - accuracy: 0.9688 - val_loss: 0.4650 - val_accuracy: 0.9375\n",
      "Epoch 25/25\n",
      "2/2 [==============================] - 1s 477ms/step - loss: 0.1049 - accuracy: 0.9375 - val_loss: 0.2520 - val_accuracy: 0.8750\n",
      "Model saved as milk_recognizer.h5\n"
     ]
    },
    {
     "name": "stderr",
     "output_type": "stream",
     "text": [
      "/Library/Frameworks/Python.framework/Versions/3.8/lib/python3.8/site-packages/keras/src/engine/training.py:3000: UserWarning: You are saving your model as an HDF5 file via `model.save()`. This file format is considered legacy. We recommend using instead the native Keras format, e.g. `model.save('my_model.keras')`.\n",
      "  saving_api.save_model(\n"
     ]
    }
   ],
   "source": [
    "history = model.fit(\n",
    "    train_generator,\n",
    "    epochs=epochs,\n",
    "    validation_data=validation_generator)\n",
    "\n",
    "model.save('recognizer.h5')\n",
    "\n",
    "print('Model saved as recognizer.h5')"
   ]
  }
 ],
 "metadata": {
  "kernelspec": {
   "display_name": "Python 3 (ipykernel)",
   "language": "python",
   "name": "python3"
  },
  "language_info": {
   "codemirror_mode": {
    "name": "ipython",
    "version": 3
   },
   "file_extension": ".py",
   "mimetype": "text/x-python",
   "name": "python",
   "nbconvert_exporter": "python",
   "pygments_lexer": "ipython3",
   "version": "3.8.6"
  }
 },
 "nbformat": 4,
 "nbformat_minor": 2
}
