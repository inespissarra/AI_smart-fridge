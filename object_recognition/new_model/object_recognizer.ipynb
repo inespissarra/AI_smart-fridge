{
 "cells": [
  {
   "cell_type": "code",
   "execution_count": null,
   "metadata": {},
   "outputs": [],
   "source": [
    "!pip install tensorflow"
   ]
  },
  {
   "cell_type": "code",
   "execution_count": 1,
   "metadata": {},
   "outputs": [
    {
     "name": "stderr",
     "output_type": "stream",
     "text": [
      "2024-03-17 09:44:27.678720: I tensorflow/core/platform/cpu_feature_guard.cc:182] This TensorFlow binary is optimized to use available CPU instructions in performance-critical operations.\n",
      "To enable the following instructions: AVX2 FMA, in other operations, rebuild TensorFlow with the appropriate compiler flags.\n"
     ]
    }
   ],
   "source": [
    "import numpy as np\n",
    "import tensorflow as tf\n",
    "from tensorflow.keras.preprocessing.image import ImageDataGenerator\n",
    "from tensorflow.keras.models import Sequential\n",
    "from tensorflow.keras.layers import Conv2D, MaxPooling2D, Dense, Dropout, Flatten"
   ]
  },
  {
   "cell_type": "code",
   "execution_count": 2,
   "metadata": {},
   "outputs": [],
   "source": [
    "data_dir = './dataset'\n",
    "img_height, image_width = 504, 378\n",
    "batch_size = 32\n",
    "num_classes = 4\n",
    "epochs = 20"
   ]
  },
  {
   "cell_type": "code",
   "execution_count": 3,
   "metadata": {},
   "outputs": [],
   "source": [
    "train_datagen = ImageDataGenerator(\n",
    "    rescale=1./255,\n",
    "    validation_split=0.2, # 20% of the data will be used for validation\n",
    "    shear_range=0.2,\n",
    "    zoom_range=0.2,\n",
    "    horizontal_flip=True\n",
    ")"
   ]
  },
  {
   "cell_type": "code",
   "execution_count": 5,
   "metadata": {},
   "outputs": [
    {
     "name": "stdout",
     "output_type": "stream",
     "text": [
      "Found 108 images belonging to 4 classes.\n",
      "Found 25 images belonging to 4 classes.\n"
     ]
    }
   ],
   "source": [
    "train_generator = train_datagen.flow_from_directory(\n",
    "    data_dir,\n",
    "    target_size=(img_height, image_width),\n",
    "    batch_size=batch_size,\n",
    "    class_mode='categorical',\n",
    "    subset='training'\n",
    ")\n",
    "\n",
    "validation_generator = train_datagen.flow_from_directory(\n",
    "    data_dir,\n",
    "    target_size=(img_height, image_width),\n",
    "    batch_size=batch_size,\n",
    "    class_mode='categorical',\n",
    "    subset='validation'\n",
    ")"
   ]
  },
  {
   "cell_type": "code",
   "execution_count": 6,
   "metadata": {},
   "outputs": [],
   "source": [
    "model = Sequential([\n",
    "    Conv2D(32, (3, 3), activation='relu', input_shape=(img_height, image_width, 3)),\n",
    "    MaxPooling2D(2, 2),\n",
    "    Conv2D(64, (3, 3), activation='relu'),\n",
    "    MaxPooling2D(2, 2),\n",
    "    Conv2D(128, (3, 3), activation='relu'),\n",
    "    MaxPooling2D(2, 2),\n",
    "    Flatten(),\n",
    "    Dense(512, activation='relu'),\n",
    "    Dropout(0.2),\n",
    "    Dense(num_classes, activation='softmax')\n",
    "])"
   ]
  },
  {
   "cell_type": "code",
   "execution_count": 7,
   "metadata": {},
   "outputs": [],
   "source": [
    "model.compile(\n",
    "    optimizer='adam',\n",
    "    loss='categorical_crossentropy',\n",
    "    metrics=['accuracy']\n",
    ")"
   ]
  },
  {
   "cell_type": "code",
   "execution_count": 8,
   "metadata": {},
   "outputs": [
    {
     "name": "stdout",
     "output_type": "stream",
     "text": [
      "Epoch 1/20\n",
      "4/4 [==============================] - 30s 8s/step - loss: 11.3591 - accuracy: 0.2407 - val_loss: 2.6749 - val_accuracy: 0.4400\n",
      "Epoch 2/20\n",
      "4/4 [==============================] - 25s 6s/step - loss: 1.7887 - accuracy: 0.3889 - val_loss: 1.3832 - val_accuracy: 0.3600\n",
      "Epoch 3/20\n",
      "4/4 [==============================] - 26s 8s/step - loss: 1.1485 - accuracy: 0.5185 - val_loss: 1.2569 - val_accuracy: 0.4000\n",
      "Epoch 4/20\n",
      "4/4 [==============================] - 35s 10s/step - loss: 0.8098 - accuracy: 0.7407 - val_loss: 0.9448 - val_accuracy: 0.5200\n",
      "Epoch 5/20\n",
      "4/4 [==============================] - 36s 8s/step - loss: 0.6505 - accuracy: 0.7593 - val_loss: 1.1357 - val_accuracy: 0.6000\n",
      "Epoch 6/20\n",
      "4/4 [==============================] - 33s 9s/step - loss: 0.4292 - accuracy: 0.8519 - val_loss: 1.1652 - val_accuracy: 0.6400\n",
      "Epoch 7/20\n",
      "4/4 [==============================] - 29s 6s/step - loss: 0.3103 - accuracy: 0.8889 - val_loss: 1.5188 - val_accuracy: 0.6800\n",
      "Epoch 8/20\n",
      "4/4 [==============================] - 28s 6s/step - loss: 0.3574 - accuracy: 0.7963 - val_loss: 1.3183 - val_accuracy: 0.7600\n",
      "Epoch 9/20\n",
      "4/4 [==============================] - 36s 9s/step - loss: 0.2050 - accuracy: 0.9167 - val_loss: 1.6292 - val_accuracy: 0.7600\n",
      "Epoch 10/20\n",
      "4/4 [==============================] - 36s 8s/step - loss: 0.2060 - accuracy: 0.9074 - val_loss: 1.2565 - val_accuracy: 0.8000\n",
      "Epoch 11/20\n",
      "4/4 [==============================] - 45s 10s/step - loss: 0.1775 - accuracy: 0.9167 - val_loss: 1.3553 - val_accuracy: 0.7200\n",
      "Epoch 12/20\n",
      "4/4 [==============================] - 47s 11s/step - loss: 0.2274 - accuracy: 0.8796 - val_loss: 1.0718 - val_accuracy: 0.7600\n",
      "Epoch 13/20\n",
      "4/4 [==============================] - 42s 12s/step - loss: 0.1862 - accuracy: 0.9352 - val_loss: 1.4274 - val_accuracy: 0.8000\n",
      "Epoch 14/20\n",
      "4/4 [==============================] - 39s 9s/step - loss: 0.1778 - accuracy: 0.9352 - val_loss: 1.8582 - val_accuracy: 0.8000\n",
      "Epoch 15/20\n",
      "4/4 [==============================] - 39s 9s/step - loss: 0.1116 - accuracy: 0.9444 - val_loss: 1.2075 - val_accuracy: 0.7600\n",
      "Epoch 16/20\n",
      "4/4 [==============================] - 37s 8s/step - loss: 0.1889 - accuracy: 0.9167 - val_loss: 1.7621 - val_accuracy: 0.8000\n",
      "Epoch 17/20\n",
      "4/4 [==============================] - 34s 8s/step - loss: 0.0931 - accuracy: 0.9537 - val_loss: 1.6537 - val_accuracy: 0.8000\n",
      "Epoch 18/20\n",
      "4/4 [==============================] - 33s 9s/step - loss: 0.1080 - accuracy: 0.9537 - val_loss: 1.3243 - val_accuracy: 0.8000\n",
      "Epoch 19/20\n",
      "4/4 [==============================] - 36s 10s/step - loss: 0.0862 - accuracy: 0.9722 - val_loss: 2.0894 - val_accuracy: 0.7600\n",
      "Epoch 20/20\n",
      "4/4 [==============================] - 36s 8s/step - loss: 0.0964 - accuracy: 0.9630 - val_loss: 2.8511 - val_accuracy: 0.7200\n"
     ]
    },
    {
     "name": "stderr",
     "output_type": "stream",
     "text": [
      "/Library/Frameworks/Python.framework/Versions/3.8/lib/python3.8/site-packages/keras/src/engine/training.py:3000: UserWarning: You are saving your model as an HDF5 file via `model.save()`. This file format is considered legacy. We recommend using instead the native Keras format, e.g. `model.save('my_model.keras')`.\n",
      "  saving_api.save_model(\n"
     ]
    },
    {
     "name": "stdout",
     "output_type": "stream",
     "text": [
      "Model saved as recognizer.h5\n"
     ]
    }
   ],
   "source": [
    "history = model.fit(\n",
    "    train_generator,\n",
    "    epochs=epochs,\n",
    "    validation_data=validation_generator)\n",
    "\n",
    "model.save('recognizer.h5')\n",
    "\n",
    "print('Model saved as recognizer.h5')"
   ]
  }
 ],
 "metadata": {
  "kernelspec": {
   "display_name": "Python 3 (ipykernel)",
   "language": "python",
   "name": "python3"
  },
  "language_info": {
   "codemirror_mode": {
    "name": "ipython",
    "version": 3
   },
   "file_extension": ".py",
   "mimetype": "text/x-python",
   "name": "python",
   "nbconvert_exporter": "python",
   "pygments_lexer": "ipython3",
   "version": "3.8.6"
  }
 },
 "nbformat": 4,
 "nbformat_minor": 2
}
