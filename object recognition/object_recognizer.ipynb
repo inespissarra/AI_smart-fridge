{
 "cells": [
  {
   "cell_type": "code",
   "execution_count": null,
   "metadata": {},
   "outputs": [],
   "source": [
    "!pip install tensorflow"
   ]
  },
  {
   "cell_type": "code",
   "execution_count": 1,
   "metadata": {},
   "outputs": [
    {
     "name": "stderr",
     "output_type": "stream",
     "text": [
      "2024-03-13 18:27:52.728400: I tensorflow/core/platform/cpu_feature_guard.cc:182] This TensorFlow binary is optimized to use available CPU instructions in performance-critical operations.\n",
      "To enable the following instructions: AVX2 FMA, in other operations, rebuild TensorFlow with the appropriate compiler flags.\n"
     ]
    }
   ],
   "source": [
    "import numpy as np\n",
    "import tensorflow as tf\n",
    "from tensorflow.keras.preprocessing.image import ImageDataGenerator\n",
    "from tensorflow.keras.models import Sequential\n",
    "from tensorflow.keras.layers import Conv2D, MaxPooling2D, Dense, Dropout, Flatten"
   ]
  },
  {
   "cell_type": "code",
   "execution_count": 12,
   "metadata": {},
   "outputs": [],
   "source": [
    "data_dir = './dataset'\n",
    "img_height, image_width = 320, 240\n",
    "batch_size = 32\n",
    "num_classes = 4\n",
    "epochs = 25"
   ]
  },
  {
   "cell_type": "code",
   "execution_count": 13,
   "metadata": {},
   "outputs": [],
   "source": [
    "train_datagen = ImageDataGenerator(\n",
    "    rescale=1./255,\n",
    "    validation_split=0.2, # 20% of the data will be used for validation\n",
    "    shear_range=0.2,\n",
    "    zoom_range=0.2,\n",
    "    horizontal_flip=True\n",
    ")"
   ]
  },
  {
   "cell_type": "code",
   "execution_count": 14,
   "metadata": {},
   "outputs": [
    {
     "name": "stdout",
     "output_type": "stream",
     "text": [
      "Found 95 images belonging to 4 classes.\n",
      "Found 21 images belonging to 4 classes.\n"
     ]
    }
   ],
   "source": [
    "train_generator = train_datagen.flow_from_directory(\n",
    "    data_dir,\n",
    "    target_size=(img_height, image_width),\n",
    "    batch_size=batch_size,\n",
    "    class_mode='categorical',\n",
    "    subset='training'\n",
    ")\n",
    "\n",
    "validation_generator = train_datagen.flow_from_directory(\n",
    "    data_dir,\n",
    "    target_size=(img_height, image_width),\n",
    "    batch_size=batch_size,\n",
    "    class_mode='categorical',\n",
    "    subset='validation'\n",
    ")"
   ]
  },
  {
   "cell_type": "code",
   "execution_count": 15,
   "metadata": {},
   "outputs": [],
   "source": [
    "model = Sequential([\n",
    "    Conv2D(32, (3, 3), activation='relu', input_shape=(img_height, image_width, 3)),\n",
    "    MaxPooling2D(2, 2),\n",
    "    Conv2D(64, (3, 3), activation='relu'),\n",
    "    MaxPooling2D(2, 2),\n",
    "    Conv2D(128, (3, 3), activation='relu'),\n",
    "    MaxPooling2D(2, 2),\n",
    "    Flatten(),\n",
    "    Dense(512, activation='relu'),\n",
    "    Dropout(0.5),\n",
    "    Dense(num_classes, activation='softmax')\n",
    "])"
   ]
  },
  {
   "cell_type": "code",
   "execution_count": 16,
   "metadata": {},
   "outputs": [],
   "source": [
    "model.compile(\n",
    "    optimizer='adam',\n",
    "    loss='categorical_crossentropy',\n",
    "    metrics=['accuracy']\n",
    ")"
   ]
  },
  {
   "cell_type": "code",
   "execution_count": 17,
   "metadata": {},
   "outputs": [
    {
     "name": "stdout",
     "output_type": "stream",
     "text": [
      "Epoch 1/25\n",
      "3/3 [==============================] - 9s 3s/step - loss: 8.8216 - accuracy: 0.2526 - val_loss: 6.5841 - val_accuracy: 0.2857\n",
      "Epoch 2/25\n",
      "3/3 [==============================] - 8s 3s/step - loss: 3.4139 - accuracy: 0.3053 - val_loss: 1.3578 - val_accuracy: 0.1905\n",
      "Epoch 3/25\n",
      "3/3 [==============================] - 8s 3s/step - loss: 1.2939 - accuracy: 0.3579 - val_loss: 1.0619 - val_accuracy: 0.7143\n",
      "Epoch 4/25\n",
      "3/3 [==============================] - 8s 2s/step - loss: 1.1306 - accuracy: 0.5053 - val_loss: 0.8113 - val_accuracy: 0.7619\n",
      "Epoch 5/25\n",
      "3/3 [==============================] - 8s 2s/step - loss: 0.8270 - accuracy: 0.6421 - val_loss: 0.8194 - val_accuracy: 0.7143\n",
      "Epoch 6/25\n",
      "3/3 [==============================] - 8s 3s/step - loss: 0.5477 - accuracy: 0.8211 - val_loss: 0.5806 - val_accuracy: 0.7143\n",
      "Epoch 7/25\n",
      "3/3 [==============================] - 9s 3s/step - loss: 0.7042 - accuracy: 0.7579 - val_loss: 0.7038 - val_accuracy: 0.7619\n",
      "Epoch 8/25\n",
      "3/3 [==============================] - 9s 3s/step - loss: 0.5575 - accuracy: 0.8000 - val_loss: 0.4941 - val_accuracy: 0.8095\n",
      "Epoch 9/25\n",
      "3/3 [==============================] - 8s 3s/step - loss: 0.3903 - accuracy: 0.8842 - val_loss: 0.5270 - val_accuracy: 0.8571\n",
      "Epoch 10/25\n",
      "3/3 [==============================] - 9s 3s/step - loss: 0.2798 - accuracy: 0.8947 - val_loss: 0.3633 - val_accuracy: 0.8095\n",
      "Epoch 11/25\n",
      "3/3 [==============================] - 10s 3s/step - loss: 0.2748 - accuracy: 0.8842 - val_loss: 0.4404 - val_accuracy: 0.8095\n",
      "Epoch 12/25\n",
      "3/3 [==============================] - 11s 3s/step - loss: 0.4173 - accuracy: 0.8737 - val_loss: 0.2486 - val_accuracy: 0.9048\n",
      "Epoch 13/25\n",
      "3/3 [==============================] - 11s 3s/step - loss: 0.2416 - accuracy: 0.9263 - val_loss: 0.5192 - val_accuracy: 0.8571\n",
      "Epoch 14/25\n",
      "3/3 [==============================] - 10s 3s/step - loss: 0.1671 - accuracy: 0.9579 - val_loss: 0.3154 - val_accuracy: 0.9048\n",
      "Epoch 15/25\n",
      "3/3 [==============================] - 12s 4s/step - loss: 0.2359 - accuracy: 0.9053 - val_loss: 0.5147 - val_accuracy: 0.9048\n",
      "Epoch 16/25\n",
      "3/3 [==============================] - 11s 3s/step - loss: 0.1413 - accuracy: 0.9579 - val_loss: 0.8016 - val_accuracy: 0.8571\n",
      "Epoch 17/25\n",
      "3/3 [==============================] - 10s 3s/step - loss: 0.1686 - accuracy: 0.9474 - val_loss: 0.4145 - val_accuracy: 0.8095\n",
      "Epoch 18/25\n",
      "3/3 [==============================] - 10s 3s/step - loss: 0.1407 - accuracy: 0.9474 - val_loss: 0.3423 - val_accuracy: 0.9524\n",
      "Epoch 19/25\n",
      "3/3 [==============================] - 9s 3s/step - loss: 0.1293 - accuracy: 0.9474 - val_loss: 0.1242 - val_accuracy: 0.9524\n",
      "Epoch 20/25\n",
      "3/3 [==============================] - 8s 3s/step - loss: 0.3620 - accuracy: 0.8947 - val_loss: 0.5352 - val_accuracy: 0.9048\n",
      "Epoch 21/25\n",
      "3/3 [==============================] - 9s 3s/step - loss: 0.0861 - accuracy: 0.9684 - val_loss: 1.1262 - val_accuracy: 0.8571\n",
      "Epoch 22/25\n",
      "3/3 [==============================] - 8s 3s/step - loss: 0.1836 - accuracy: 0.9368 - val_loss: 0.4496 - val_accuracy: 0.9048\n",
      "Epoch 23/25\n",
      "3/3 [==============================] - 8s 2s/step - loss: 0.1228 - accuracy: 0.9368 - val_loss: 0.9556 - val_accuracy: 0.8571\n",
      "Epoch 24/25\n",
      "3/3 [==============================] - 9s 3s/step - loss: 0.1302 - accuracy: 0.9368 - val_loss: 1.4096 - val_accuracy: 0.8095\n",
      "Epoch 25/25\n",
      "3/3 [==============================] - 9s 3s/step - loss: 0.2851 - accuracy: 0.9684 - val_loss: 1.0572 - val_accuracy: 0.8571\n",
      "Model saved as recognizer.h5\n"
     ]
    }
   ],
   "source": [
    "history = model.fit(\n",
    "    train_generator,\n",
    "    epochs=epochs,\n",
    "    validation_data=validation_generator)\n",
    "\n",
    "model.save('recognizer.h5')\n",
    "\n",
    "print('Model saved as recognizer.h5')"
   ]
  }
 ],
 "metadata": {
  "kernelspec": {
   "display_name": "Python 3 (ipykernel)",
   "language": "python",
   "name": "python3"
  },
  "language_info": {
   "codemirror_mode": {
    "name": "ipython",
    "version": 3
   },
   "file_extension": ".py",
   "mimetype": "text/x-python",
   "name": "python",
   "nbconvert_exporter": "python",
   "pygments_lexer": "ipython3",
   "version": "3.8.6"
  }
 },
 "nbformat": 4,
 "nbformat_minor": 2
}
