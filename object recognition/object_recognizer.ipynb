{
 "cells": [
  {
   "cell_type": "code",
   "execution_count": null,
   "metadata": {},
   "outputs": [],
   "source": [
    "!pip install tensorflow"
   ]
  },
  {
   "cell_type": "code",
   "execution_count": 2,
   "metadata": {},
   "outputs": [],
   "source": [
    "import numpy as np\n",
    "import tensorflow as tf\n",
    "from tensorflow.keras.preprocessing.image import ImageDataGenerator\n",
    "from tensorflow.keras.models import Sequential\n",
    "from tensorflow.keras.layers import Conv2D, MaxPooling2D, Dense, Dropout, Flatten"
   ]
  },
  {
   "cell_type": "code",
   "execution_count": 15,
   "metadata": {},
   "outputs": [],
   "source": [
    "data_dir = './dataset'\n",
    "img_height, image_width = 128, 128\n",
    "batch_size = 32\n",
    "num_classes = 3\n",
    "epochs = 25"
   ]
  },
  {
   "cell_type": "code",
   "execution_count": 16,
   "metadata": {},
   "outputs": [],
   "source": [
    "train_datagen = ImageDataGenerator(\n",
    "    rescale=1./255,\n",
    "    validation_split=0.2, # 20% of the data will be used for validation\n",
    "    shear_range=0.2,\n",
    "    zoom_range=0.2,\n",
    "    horizontal_flip=True\n",
    ")"
   ]
  },
  {
   "cell_type": "code",
   "execution_count": 17,
   "metadata": {},
   "outputs": [
    {
     "name": "stdout",
     "output_type": "stream",
     "text": [
      "Found 96 images belonging to 3 classes.\n",
      "Found 24 images belonging to 3 classes.\n"
     ]
    }
   ],
   "source": [
    "train_generator = train_datagen.flow_from_directory(\n",
    "    data_dir,\n",
    "    target_size=(img_height, image_width),\n",
    "    batch_size=batch_size,\n",
    "    class_mode='categorical',\n",
    "    subset='training'\n",
    ")\n",
    "\n",
    "validation_generator = train_datagen.flow_from_directory(\n",
    "    data_dir,\n",
    "    target_size=(img_height, image_width),\n",
    "    batch_size=batch_size,\n",
    "    class_mode='categorical',\n",
    "    subset='validation'\n",
    ")"
   ]
  },
  {
   "cell_type": "code",
   "execution_count": 18,
   "metadata": {},
   "outputs": [],
   "source": [
    "model = Sequential([\n",
    "    Conv2D(32, (3, 3), activation='relu', input_shape=(img_height, image_width, 3)),\n",
    "    MaxPooling2D(2, 2),\n",
    "    Conv2D(64, (3, 3), activation='relu'),\n",
    "    MaxPooling2D(2, 2),\n",
    "    Conv2D(128, (3, 3), activation='relu'),\n",
    "    MaxPooling2D(2, 2),\n",
    "    Flatten(),\n",
    "    Dense(512, activation='relu'),\n",
    "    Dropout(0.5),\n",
    "    Dense(num_classes, activation='softmax')\n",
    "])"
   ]
  },
  {
   "cell_type": "code",
   "execution_count": 19,
   "metadata": {},
   "outputs": [],
   "source": [
    "model.compile(\n",
    "    optimizer='adam',\n",
    "    loss='categorical_crossentropy',\n",
    "    metrics=['accuracy']\n",
    ")"
   ]
  },
  {
   "cell_type": "code",
   "execution_count": 20,
   "metadata": {},
   "outputs": [
    {
     "name": "stdout",
     "output_type": "stream",
     "text": [
      "Epoch 1/25\n",
      "3/3 [==============================] - 3s 565ms/step - loss: 3.1107 - accuracy: 0.2500 - val_loss: 1.4186 - val_accuracy: 0.3333\n",
      "Epoch 2/25\n",
      "3/3 [==============================] - 1s 420ms/step - loss: 1.2968 - accuracy: 0.3646 - val_loss: 1.0871 - val_accuracy: 0.3750\n",
      "Epoch 3/25\n",
      "3/3 [==============================] - 1s 428ms/step - loss: 1.0566 - accuracy: 0.4896 - val_loss: 1.0354 - val_accuracy: 0.4167\n",
      "Epoch 4/25\n",
      "3/3 [==============================] - 1s 412ms/step - loss: 1.0051 - accuracy: 0.5000 - val_loss: 0.9244 - val_accuracy: 0.8333\n",
      "Epoch 5/25\n",
      "3/3 [==============================] - 1s 407ms/step - loss: 0.8657 - accuracy: 0.6562 - val_loss: 0.7748 - val_accuracy: 0.7917\n",
      "Epoch 6/25\n",
      "3/3 [==============================] - 1s 420ms/step - loss: 0.7056 - accuracy: 0.6771 - val_loss: 0.9359 - val_accuracy: 0.5833\n",
      "Epoch 7/25\n",
      "3/3 [==============================] - 1s 406ms/step - loss: 0.6415 - accuracy: 0.7292 - val_loss: 0.6152 - val_accuracy: 0.8333\n",
      "Epoch 8/25\n",
      "3/3 [==============================] - 1s 403ms/step - loss: 0.4843 - accuracy: 0.7917 - val_loss: 0.6945 - val_accuracy: 0.7083\n",
      "Epoch 9/25\n",
      "3/3 [==============================] - 1s 408ms/step - loss: 0.4309 - accuracy: 0.8438 - val_loss: 0.5217 - val_accuracy: 0.7917\n",
      "Epoch 10/25\n",
      "3/3 [==============================] - 1s 425ms/step - loss: 0.3898 - accuracy: 0.8021 - val_loss: 1.1058 - val_accuracy: 0.6667\n",
      "Epoch 11/25\n",
      "3/3 [==============================] - 1s 438ms/step - loss: 0.3547 - accuracy: 0.8646 - val_loss: 0.6362 - val_accuracy: 0.7917\n",
      "Epoch 12/25\n",
      "3/3 [==============================] - 1s 408ms/step - loss: 0.3406 - accuracy: 0.8333 - val_loss: 0.6766 - val_accuracy: 0.8333\n",
      "Epoch 13/25\n",
      "3/3 [==============================] - 1s 419ms/step - loss: 0.2821 - accuracy: 0.8854 - val_loss: 0.8475 - val_accuracy: 0.7083\n",
      "Epoch 14/25\n",
      "3/3 [==============================] - 1s 407ms/step - loss: 0.4839 - accuracy: 0.7812 - val_loss: 0.4586 - val_accuracy: 0.7917\n",
      "Epoch 15/25\n",
      "3/3 [==============================] - 1s 423ms/step - loss: 0.3262 - accuracy: 0.8854 - val_loss: 0.7586 - val_accuracy: 0.7500\n",
      "Epoch 16/25\n",
      "3/3 [==============================] - 1s 412ms/step - loss: 0.3515 - accuracy: 0.8438 - val_loss: 0.7286 - val_accuracy: 0.7917\n",
      "Epoch 17/25\n",
      "3/3 [==============================] - 1s 470ms/step - loss: 0.3049 - accuracy: 0.8854 - val_loss: 1.0115 - val_accuracy: 0.6250\n",
      "Epoch 18/25\n",
      "3/3 [==============================] - 1s 471ms/step - loss: 0.2675 - accuracy: 0.9271 - val_loss: 0.9364 - val_accuracy: 0.7083\n",
      "Epoch 19/25\n",
      "3/3 [==============================] - 1s 418ms/step - loss: 0.1740 - accuracy: 0.9375 - val_loss: 0.7311 - val_accuracy: 0.8333\n",
      "Epoch 20/25\n",
      "3/3 [==============================] - 1s 448ms/step - loss: 0.1851 - accuracy: 0.9375 - val_loss: 0.5977 - val_accuracy: 0.8333\n",
      "Epoch 21/25\n",
      "3/3 [==============================] - 1s 417ms/step - loss: 0.1028 - accuracy: 0.9583 - val_loss: 1.1228 - val_accuracy: 0.8333\n",
      "Epoch 22/25\n",
      "3/3 [==============================] - 1s 416ms/step - loss: 0.1539 - accuracy: 0.9375 - val_loss: 0.5791 - val_accuracy: 0.7917\n",
      "Epoch 23/25\n",
      "3/3 [==============================] - 1s 443ms/step - loss: 0.1170 - accuracy: 0.9792 - val_loss: 0.8001 - val_accuracy: 0.7917\n",
      "Epoch 24/25\n",
      "3/3 [==============================] - 1s 422ms/step - loss: 0.1673 - accuracy: 0.9479 - val_loss: 0.8027 - val_accuracy: 0.7500\n",
      "Epoch 25/25\n",
      "3/3 [==============================] - 1s 415ms/step - loss: 0.0955 - accuracy: 0.9479 - val_loss: 0.7413 - val_accuracy: 0.7917\n"
     ]
    },
    {
     "name": "stderr",
     "output_type": "stream",
     "text": [
      "/Library/Frameworks/Python.framework/Versions/3.8/lib/python3.8/site-packages/keras/src/engine/training.py:3000: UserWarning: You are saving your model as an HDF5 file via `model.save()`. This file format is considered legacy. We recommend using instead the native Keras format, e.g. `model.save('my_model.keras')`.\n",
      "  saving_api.save_model(\n"
     ]
    },
    {
     "name": "stdout",
     "output_type": "stream",
     "text": [
      "Model saved as recognizer.h5\n"
     ]
    }
   ],
   "source": [
    "history = model.fit(\n",
    "    train_generator,\n",
    "    epochs=epochs,\n",
    "    validation_data=validation_generator)\n",
    "\n",
    "model.save('recognizer2.h5')\n",
    "\n",
    "print('Model saved as recognizer.h5')"
   ]
  }
 ],
 "metadata": {
  "kernelspec": {
   "display_name": "Python 3 (ipykernel)",
   "language": "python",
   "name": "python3"
  },
  "language_info": {
   "codemirror_mode": {
    "name": "ipython",
    "version": 3
   },
   "file_extension": ".py",
   "mimetype": "text/x-python",
   "name": "python",
   "nbconvert_exporter": "python",
   "pygments_lexer": "ipython3",
   "version": "3.8.6"
  }
 },
 "nbformat": 4,
 "nbformat_minor": 2
}
