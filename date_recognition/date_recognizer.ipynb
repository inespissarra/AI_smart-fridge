{
 "cells": [
  {
   "cell_type": "code",
   "execution_count": 9,
   "metadata": {},
   "outputs": [
    {
     "name": "stdout",
     "output_type": "stream",
     "text": [
      "Requirement already satisfied: pytesseract in /Users/inespissarra/opt/anaconda3/lib/python3.9/site-packages (0.3.10)\n",
      "Requirement already satisfied: packaging>=21.3 in /Users/inespissarra/opt/anaconda3/lib/python3.9/site-packages (from pytesseract) (21.3)\n",
      "Requirement already satisfied: Pillow>=8.0.0 in /Users/inespissarra/opt/anaconda3/lib/python3.9/site-packages (from pytesseract) (9.2.0)\n",
      "Requirement already satisfied: pyparsing!=3.0.5,>=2.0.2 in /Users/inespissarra/opt/anaconda3/lib/python3.9/site-packages (from packaging>=21.3->pytesseract) (3.0.9)\n",
      "Requirement already satisfied: opencv-python in /Users/inespissarra/opt/anaconda3/lib/python3.9/site-packages (4.9.0.80)\n",
      "Requirement already satisfied: numpy>=1.17.3 in /Users/inespissarra/opt/anaconda3/lib/python3.9/site-packages (from opencv-python) (1.26.4)\n"
     ]
    }
   ],
   "source": [
    "!pip install pytesseract\n",
    "!pip install opencv-python\n"
   ]
  },
  {
   "cell_type": "code",
   "execution_count": 1,
   "metadata": {},
   "outputs": [],
   "source": [
    "import numpy as np\n",
    "import pytesseract\n",
    "from PIL import Image\n",
    "import cv2\n",
    "import re"
   ]
  },
  {
   "cell_type": "code",
   "execution_count": 3,
   "metadata": {},
   "outputs": [
    {
     "name": "stdout",
     "output_type": "stream",
     "text": [
      "09/05/2024\n"
     ]
    }
   ],
   "source": [
    "padrao_data = '^(0[1-9]|[12][0-9]|3[01])/(0[1-9]|1[0-2])/[0-9]{4}$'\n",
    "\n",
    "image = Image.open('./test/queijo.JPG')\n",
    "# image pre processing\n",
    "# image = np.array(image)\n",
    "# image = cv2.cvtColor(image, cv2.COLOR_BGR2GRAY)\n",
    "# image = cv2.threshold(image, 0, 255, cv2.THRESH_BINARY + cv2.THRESH_OTSU)[1]\n",
    "# image = cv2.medianBlur(image, 3)\n",
    "# image = Image.fromarray(image)\n",
    "\n",
    "result = pytesseract.image_to_string(image)\n",
    "\n",
    "# print(result)\n",
    "\n",
    "# filter date\n",
    "result = result.split(' ')\n",
    "for i in result:\n",
    "    if re.match(padrao_data, i):\n",
    "        print(i)\n",
    "        break"
   ]
  }
 ],
 "metadata": {
  "kernelspec": {
   "display_name": "Python 3",
   "language": "python",
   "name": "python3"
  },
  "language_info": {
   "codemirror_mode": {
    "name": "ipython",
    "version": 3
   },
   "file_extension": ".py",
   "mimetype": "text/x-python",
   "name": "python",
   "nbconvert_exporter": "python",
   "pygments_lexer": "ipython3",
   "version": "3.9.13"
  }
 },
 "nbformat": 4,
 "nbformat_minor": 2
}
