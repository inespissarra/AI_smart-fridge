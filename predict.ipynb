{
 "cells": [
  {
   "cell_type": "code",
   "execution_count": 5,
   "metadata": {},
   "outputs": [],
   "source": [
    "import numpy as np\n",
    "from tensorflow.keras.preprocessing.image import ImageDataGenerator, img_to_array, load_img\n",
    "from tensorflow.keras.models import load_model"
   ]
  },
  {
   "cell_type": "code",
   "execution_count": 6,
   "metadata": {},
   "outputs": [
    {
     "name": "stdout",
     "output_type": "stream",
     "text": [
      "Found 80 images belonging to 2 classes.\n",
      "1/1 [==============================] - 0s 119ms/step\n",
      "A imagem ./test/new.jpg é da classe milk com probabilidade 68.30\n"
     ]
    }
   ],
   "source": [
    "def predict_image(model, image_path, image_height, image_width):\n",
    "    img = load_img(image_path, target_size=(image_height, image_width))\n",
    "    img = img_to_array(img)\n",
    "    img = np.expand_dims(img, axis=0)/255\n",
    "    prediction = model.predict(img)\n",
    "    return prediction\n",
    "\n",
    "def get_class_label(prediction, class_indices):\n",
    "    class_label = None\n",
    "    max_prob = np.max(prediction)\n",
    "    for label, index in class_indices.items():\n",
    "        if prediction[0][index] == max_prob:\n",
    "            class_label = label\n",
    "            break\n",
    "    return class_label\n",
    "\n",
    "# load the model\n",
    "model = load_model('recognizer.h5')\n",
    "\n",
    "# create data generator for training set\n",
    "train_datagen = ImageDataGenerator(rescale=1./255)\n",
    "train_generator = train_datagen.flow_from_directory(\n",
    "    './dataset',\n",
    "    target_size=(128, 128),\n",
    "    batch_size=32,\n",
    "    class_mode='categorical')\n",
    "\n",
    "# obtain class indices from the training set\n",
    "class_indices = train_generator.class_indices\n",
    "\n",
    "# predict the image\n",
    "image_path = './test/new.jpg'\n",
    "\n",
    "prediction = predict_image(model, image_path, 128, 128)\n",
    "class_label = get_class_label(prediction, class_indices)\n",
    "\n",
    "print(f'A imagem {image_path} é da classe {class_label} com probabilidade {np.max(prediction) * 100 :.2f}')"
   ]
  }
 ],
 "metadata": {
  "kernelspec": {
   "display_name": "Python 3",
   "language": "python",
   "name": "python3"
  },
  "language_info": {
   "codemirror_mode": {
    "name": "ipython",
    "version": 3
   },
   "file_extension": ".py",
   "mimetype": "text/x-python",
   "name": "python",
   "nbconvert_exporter": "python",
   "pygments_lexer": "ipython3",
   "version": "3.8.6"
  }
 },
 "nbformat": 4,
 "nbformat_minor": 2
}
